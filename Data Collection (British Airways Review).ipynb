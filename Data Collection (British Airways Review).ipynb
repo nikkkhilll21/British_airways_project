{
 "cells": [
  {
   "cell_type": "markdown",
   "id": "a7f2fc28",
   "metadata": {},
   "source": [
    "\n",
    "#  British Airways Customer Review Analysis (part-1)"
   ]
  },
  {
   "cell_type": "markdown",
   "id": "74d7ad85",
   "metadata": {},
   "source": [
    "\n",
    "This project is about the collection of customer reviews from the website called as Skytrax with the help of web scrapping. Once we achiever the data our next task will be to clean it to analyse further\n",
    "\n"
   ]
  },
  {
   "cell_type": "code",
   "execution_count": 1,
   "id": "238bb492",
   "metadata": {},
   "outputs": [],
   "source": [
    "#importing the required libraries\n",
    "import pandas as pd\n",
    "import numpy as np\n",
    "from bs4 import BeautifulSoup\n",
    "import requests"
   ]
  },
  {
   "cell_type": "code",
   "execution_count": 2,
   "id": "c4fda16e",
   "metadata": {},
   "outputs": [],
   "source": [
    "#creating empty lists for creating the features and storing the scraped data\n",
    "\n",
    "reviews =[]\n",
    "stars=[]\n",
    "date =[]\n",
    "country =[]"
   ]
  },
  {
   "cell_type": "code",
   "execution_count": 3,
   "id": "f625dc14",
   "metadata": {},
   "outputs": [
    {
     "name": "stdout",
     "output_type": "stream",
     "text": [
      "Requirement already satisfied: html5lib in c:\\users\\nikhil\\anaconda3\\lib\\site-packages (1.1)\n",
      "Requirement already satisfied: six>=1.9 in c:\\users\\nikhil\\anaconda3\\lib\\site-packages (from html5lib) (1.16.0)\n",
      "Requirement already satisfied: webencodings in c:\\users\\nikhil\\anaconda3\\lib\\site-packages (from html5lib) (0.5.1)\n",
      "Note: you may need to restart the kernel to use updated packages.\n"
     ]
    }
   ],
   "source": [
    "pip install html5lib"
   ]
  },
  {
   "cell_type": "code",
   "execution_count": 4,
   "id": "b6384563",
   "metadata": {},
   "outputs": [],
   "source": [
    "for i in range (1,366):\n",
    "    page = requests.get(f'https://www.airlinequality.com/airline-reviews/british-airways')\n",
    "    \n",
    "    soup = BeautifulSoup(page.content, 'html5')\n",
    "    \n",
    "    for item in soup.find_all('div', class_ = 'text_content'):\n",
    "        reviews.append(item.text)\n",
    "    \n",
    "    for item in soup.find_all('div', class_ ='rating-10'):\n",
    "        try:\n",
    "            stars.append(item.span.text)\n",
    "        except:\n",
    "            print(f'Error on this page {i}')\n",
    "            stars.append('None')\n",
    "            \n",
    "    for item in soup.find_all('time'):\n",
    "        date.append(item.text)\n",
    "        \n",
    "    for item in soup.find_all('h3'):\n",
    "        country.append(item.span.next_sibling.text.strip('()'))"
   ]
  },
  {
   "cell_type": "code",
   "execution_count": 5,
   "id": "36d74c1e",
   "metadata": {},
   "outputs": [
    {
     "data": {
      "text/plain": [
       "3650"
      ]
     },
     "execution_count": 5,
     "metadata": {},
     "output_type": "execute_result"
    }
   ],
   "source": [
    "#checking the length for our lists\n",
    "len(reviews)"
   ]
  },
  {
   "cell_type": "code",
   "execution_count": 6,
   "id": "82314eb7",
   "metadata": {},
   "outputs": [
    {
     "data": {
      "text/plain": [
       "3650"
      ]
     },
     "execution_count": 6,
     "metadata": {},
     "output_type": "execute_result"
    }
   ],
   "source": [
    "len(country)"
   ]
  },
  {
   "cell_type": "code",
   "execution_count": 7,
   "id": "ac91af98",
   "metadata": {},
   "outputs": [
    {
     "data": {
      "text/plain": [
       "3650"
      ]
     },
     "execution_count": 7,
     "metadata": {},
     "output_type": "execute_result"
    }
   ],
   "source": [
    "len(date)"
   ]
  },
  {
   "cell_type": "code",
   "execution_count": 8,
   "id": "a55d7630",
   "metadata": {},
   "outputs": [
    {
     "data": {
      "text/plain": [
       "4015"
      ]
     },
     "execution_count": 8,
     "metadata": {},
     "output_type": "execute_result"
    }
   ],
   "source": [
    "len(stars)"
   ]
  },
  {
   "cell_type": "code",
   "execution_count": 9,
   "id": "c4615683",
   "metadata": {},
   "outputs": [
    {
     "data": {
      "text/plain": [
       "3650"
      ]
     },
     "execution_count": 9,
     "metadata": {},
     "output_type": "execute_result"
    }
   ],
   "source": [
    "#making the length of star list same as other list to create a dataframe\n",
    "stars = stars[:3650]\n",
    "len(stars)"
   ]
  },
  {
   "cell_type": "code",
   "execution_count": 10,
   "id": "165d5840",
   "metadata": {},
   "outputs": [],
   "source": [
    "#create a dataframe from the collected list \n",
    "df = pd.DataFrame({\"reviews\":reviews,\"stars\": stars, \"date\":date, \"country\": country})"
   ]
  },
  {
   "cell_type": "code",
   "execution_count": 11,
   "id": "b4362bad",
   "metadata": {},
   "outputs": [
    {
     "data": {
      "text/html": [
       "<div>\n",
       "<style scoped>\n",
       "    .dataframe tbody tr th:only-of-type {\n",
       "        vertical-align: middle;\n",
       "    }\n",
       "\n",
       "    .dataframe tbody tr th {\n",
       "        vertical-align: top;\n",
       "    }\n",
       "\n",
       "    .dataframe thead th {\n",
       "        text-align: right;\n",
       "    }\n",
       "</style>\n",
       "<table border=\"1\" class=\"dataframe\">\n",
       "  <thead>\n",
       "    <tr style=\"text-align: right;\">\n",
       "      <th></th>\n",
       "      <th>reviews</th>\n",
       "      <th>stars</th>\n",
       "      <th>date</th>\n",
       "      <th>country</th>\n",
       "    </tr>\n",
       "  </thead>\n",
       "  <tbody>\n",
       "    <tr>\n",
       "      <th>0</th>\n",
       "      <td>Not Verified |  The worst service ever, my bag...</td>\n",
       "      <td>\\n\\t\\t\\t\\t\\t\\t\\t\\t\\t\\t\\t\\t\\t5</td>\n",
       "      <td>9th September 2023</td>\n",
       "      <td>(Kuwait)</td>\n",
       "    </tr>\n",
       "    <tr>\n",
       "      <th>1</th>\n",
       "      <td>✅ Trip Verified |  4/4 flights we booked this ...</td>\n",
       "      <td>1</td>\n",
       "      <td>6th September 2023</td>\n",
       "      <td>(Germany)</td>\n",
       "    </tr>\n",
       "    <tr>\n",
       "      <th>2</th>\n",
       "      <td>✅ Trip Verified |  British Airways has a total...</td>\n",
       "      <td>1</td>\n",
       "      <td>4th September 2023</td>\n",
       "      <td>(United Kingdom)</td>\n",
       "    </tr>\n",
       "    <tr>\n",
       "      <th>3</th>\n",
       "      <td>✅ Trip Verified | London Heathrow to Keflavik,...</td>\n",
       "      <td>1</td>\n",
       "      <td>4th September 2023</td>\n",
       "      <td>(Iceland)</td>\n",
       "    </tr>\n",
       "    <tr>\n",
       "      <th>4</th>\n",
       "      <td>✅ Trip Verified | Mumbai to London Heathrow in...</td>\n",
       "      <td>8</td>\n",
       "      <td>4th September 2023</td>\n",
       "      <td>(Iceland)</td>\n",
       "    </tr>\n",
       "    <tr>\n",
       "      <th>...</th>\n",
       "      <td>...</td>\n",
       "      <td>...</td>\n",
       "      <td>...</td>\n",
       "      <td>...</td>\n",
       "    </tr>\n",
       "    <tr>\n",
       "      <th>3645</th>\n",
       "      <td>✅ Trip Verified |  Care and support shocking. ...</td>\n",
       "      <td>8</td>\n",
       "      <td>4th September 2023</td>\n",
       "      <td>(United Kingdom)</td>\n",
       "    </tr>\n",
       "    <tr>\n",
       "      <th>3646</th>\n",
       "      <td>✅ Trip Verified |  Flying A380 business class ...</td>\n",
       "      <td>8</td>\n",
       "      <td>2nd September 2023</td>\n",
       "      <td>(Australia)</td>\n",
       "    </tr>\n",
       "    <tr>\n",
       "      <th>3647</th>\n",
       "      <td>✅ Trip Verified |  British Airways absolutely ...</td>\n",
       "      <td>2</td>\n",
       "      <td>1st September 2023</td>\n",
       "      <td>(United Kingdom)</td>\n",
       "    </tr>\n",
       "    <tr>\n",
       "      <th>3648</th>\n",
       "      <td>✅ Trip Verified |  My recent experience with B...</td>\n",
       "      <td>1</td>\n",
       "      <td>1st September 2023</td>\n",
       "      <td>(United States)</td>\n",
       "    </tr>\n",
       "    <tr>\n",
       "      <th>3649</th>\n",
       "      <td>✅ Trip Verified |  This is to express our disp...</td>\n",
       "      <td>1</td>\n",
       "      <td>31st August 2023</td>\n",
       "      <td>(United States)</td>\n",
       "    </tr>\n",
       "  </tbody>\n",
       "</table>\n",
       "<p>3650 rows × 4 columns</p>\n",
       "</div>"
      ],
      "text/plain": [
       "                                                reviews  \\\n",
       "0     Not Verified |  The worst service ever, my bag...   \n",
       "1     ✅ Trip Verified |  4/4 flights we booked this ...   \n",
       "2     ✅ Trip Verified |  British Airways has a total...   \n",
       "3     ✅ Trip Verified | London Heathrow to Keflavik,...   \n",
       "4     ✅ Trip Verified | Mumbai to London Heathrow in...   \n",
       "...                                                 ...   \n",
       "3645  ✅ Trip Verified |  Care and support shocking. ...   \n",
       "3646  ✅ Trip Verified |  Flying A380 business class ...   \n",
       "3647  ✅ Trip Verified |  British Airways absolutely ...   \n",
       "3648  ✅ Trip Verified |  My recent experience with B...   \n",
       "3649  ✅ Trip Verified |  This is to express our disp...   \n",
       "\n",
       "                              stars                date             country  \n",
       "0     \\n\\t\\t\\t\\t\\t\\t\\t\\t\\t\\t\\t\\t\\t5  9th September 2023           (Kuwait)   \n",
       "1                                 1  6th September 2023          (Germany)   \n",
       "2                                 1  4th September 2023   (United Kingdom)   \n",
       "3                                 1  4th September 2023          (Iceland)   \n",
       "4                                 8  4th September 2023          (Iceland)   \n",
       "...                             ...                 ...                 ...  \n",
       "3645                              8  4th September 2023   (United Kingdom)   \n",
       "3646                              8  2nd September 2023        (Australia)   \n",
       "3647                              2  1st September 2023   (United Kingdom)   \n",
       "3648                              1  1st September 2023    (United States)   \n",
       "3649                              1    31st August 2023    (United States)   \n",
       "\n",
       "[3650 rows x 4 columns]"
      ]
     },
     "execution_count": 11,
     "metadata": {},
     "output_type": "execute_result"
    }
   ],
   "source": [
    "df"
   ]
  },
  {
   "cell_type": "markdown",
   "id": "a814d645",
   "metadata": {},
   "source": [
    "Exporting the data into csv format"
   ]
  },
  {
   "cell_type": "code",
   "execution_count": 12,
   "id": "024f04b5",
   "metadata": {},
   "outputs": [],
   "source": [
    "import os\n",
    "cwd = os.getcwd()\n",
    "df.to_csv(cwd +'/BristishAirlineReviews.csv')"
   ]
  },
  {
   "cell_type": "code",
   "execution_count": null,
   "id": "c6ee477d",
   "metadata": {},
   "outputs": [],
   "source": []
  }
 ],
 "metadata": {
  "kernelspec": {
   "display_name": "Python 3 (ipykernel)",
   "language": "python",
   "name": "python3"
  },
  "language_info": {
   "codemirror_mode": {
    "name": "ipython",
    "version": 3
   },
   "file_extension": ".py",
   "mimetype": "text/x-python",
   "name": "python",
   "nbconvert_exporter": "python",
   "pygments_lexer": "ipython3",
   "version": "3.9.13"
  }
 },
 "nbformat": 4,
 "nbformat_minor": 5
}
