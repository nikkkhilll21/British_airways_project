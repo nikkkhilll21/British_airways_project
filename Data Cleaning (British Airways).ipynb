{
 "cells": [
  {
   "cell_type": "markdown",
   "id": "bf72fd68",
   "metadata": {},
   "source": [
    "# Data Cleaning process of our Collected data (part-2)"
   ]
  },
  {
   "cell_type": "markdown",
   "id": "06177bd7",
   "metadata": {},
   "source": [
    "Now we have created a dataframe from the scraped data, we need to clean it to analyse further. "
   ]
  },
  {
   "cell_type": "code",
   "execution_count": 1,
   "id": "3517d3bf",
   "metadata": {},
   "outputs": [],
   "source": [
    "#importing the required libraries\n",
    "\n",
    "import pandas as pd\n",
    "import matplotlib.pyplot as plt\n",
    "import seaborn as sns\n",
    "import os\n",
    "import re #regex"
   ]
  },
  {
   "cell_type": "code",
   "execution_count": 2,
   "id": "09b86025",
   "metadata": {},
   "outputs": [],
   "source": [
    "#creating the dataframe from the csv file that we stored in our directory\n",
    "cwd = os.getcwd()\n",
    "\n",
    "df = pd.read_csv(cwd+'/BristishAirlineReviews.csv', index_col=0)"
   ]
  },
  {
   "cell_type": "code",
   "execution_count": 3,
   "id": "d7f7acdb",
   "metadata": {},
   "outputs": [
    {
     "data": {
      "text/html": [
       "<div>\n",
       "<style scoped>\n",
       "    .dataframe tbody tr th:only-of-type {\n",
       "        vertical-align: middle;\n",
       "    }\n",
       "\n",
       "    .dataframe tbody tr th {\n",
       "        vertical-align: top;\n",
       "    }\n",
       "\n",
       "    .dataframe thead th {\n",
       "        text-align: right;\n",
       "    }\n",
       "</style>\n",
       "<table border=\"1\" class=\"dataframe\">\n",
       "  <thead>\n",
       "    <tr style=\"text-align: right;\">\n",
       "      <th></th>\n",
       "      <th>reviews</th>\n",
       "      <th>stars</th>\n",
       "      <th>date</th>\n",
       "      <th>country</th>\n",
       "    </tr>\n",
       "  </thead>\n",
       "  <tbody>\n",
       "    <tr>\n",
       "      <th>0</th>\n",
       "      <td>Not Verified |  The worst service ever, my bag...</td>\n",
       "      <td>5</td>\n",
       "      <td>9th September 2023</td>\n",
       "      <td>(Kuwait)</td>\n",
       "    </tr>\n",
       "    <tr>\n",
       "      <th>1</th>\n",
       "      <td>✅ Trip Verified |  4/4 flights we booked this ...</td>\n",
       "      <td>1</td>\n",
       "      <td>6th September 2023</td>\n",
       "      <td>(Germany)</td>\n",
       "    </tr>\n",
       "    <tr>\n",
       "      <th>2</th>\n",
       "      <td>✅ Trip Verified |  British Airways has a total...</td>\n",
       "      <td>1</td>\n",
       "      <td>4th September 2023</td>\n",
       "      <td>(United Kingdom)</td>\n",
       "    </tr>\n",
       "    <tr>\n",
       "      <th>3</th>\n",
       "      <td>✅ Trip Verified | London Heathrow to Keflavik,...</td>\n",
       "      <td>1</td>\n",
       "      <td>4th September 2023</td>\n",
       "      <td>(Iceland)</td>\n",
       "    </tr>\n",
       "    <tr>\n",
       "      <th>4</th>\n",
       "      <td>✅ Trip Verified | Mumbai to London Heathrow in...</td>\n",
       "      <td>8</td>\n",
       "      <td>4th September 2023</td>\n",
       "      <td>(Iceland)</td>\n",
       "    </tr>\n",
       "    <tr>\n",
       "      <th>...</th>\n",
       "      <td>...</td>\n",
       "      <td>...</td>\n",
       "      <td>...</td>\n",
       "      <td>...</td>\n",
       "    </tr>\n",
       "    <tr>\n",
       "      <th>3645</th>\n",
       "      <td>✅ Trip Verified |  Care and support shocking. ...</td>\n",
       "      <td>8</td>\n",
       "      <td>4th September 2023</td>\n",
       "      <td>(United Kingdom)</td>\n",
       "    </tr>\n",
       "    <tr>\n",
       "      <th>3646</th>\n",
       "      <td>✅ Trip Verified |  Flying A380 business class ...</td>\n",
       "      <td>8</td>\n",
       "      <td>2nd September 2023</td>\n",
       "      <td>(Australia)</td>\n",
       "    </tr>\n",
       "    <tr>\n",
       "      <th>3647</th>\n",
       "      <td>✅ Trip Verified |  British Airways absolutely ...</td>\n",
       "      <td>2</td>\n",
       "      <td>1st September 2023</td>\n",
       "      <td>(United Kingdom)</td>\n",
       "    </tr>\n",
       "    <tr>\n",
       "      <th>3648</th>\n",
       "      <td>✅ Trip Verified |  My recent experience with B...</td>\n",
       "      <td>1</td>\n",
       "      <td>1st September 2023</td>\n",
       "      <td>(United States)</td>\n",
       "    </tr>\n",
       "    <tr>\n",
       "      <th>3649</th>\n",
       "      <td>✅ Trip Verified |  This is to express our disp...</td>\n",
       "      <td>1</td>\n",
       "      <td>31st August 2023</td>\n",
       "      <td>(United States)</td>\n",
       "    </tr>\n",
       "  </tbody>\n",
       "</table>\n",
       "<p>3650 rows × 4 columns</p>\n",
       "</div>"
      ],
      "text/plain": [
       "                                                reviews  stars  \\\n",
       "0     Not Verified |  The worst service ever, my bag...      5   \n",
       "1     ✅ Trip Verified |  4/4 flights we booked this ...      1   \n",
       "2     ✅ Trip Verified |  British Airways has a total...      1   \n",
       "3     ✅ Trip Verified | London Heathrow to Keflavik,...      1   \n",
       "4     ✅ Trip Verified | Mumbai to London Heathrow in...      8   \n",
       "...                                                 ...    ...   \n",
       "3645  ✅ Trip Verified |  Care and support shocking. ...      8   \n",
       "3646  ✅ Trip Verified |  Flying A380 business class ...      8   \n",
       "3647  ✅ Trip Verified |  British Airways absolutely ...      2   \n",
       "3648  ✅ Trip Verified |  My recent experience with B...      1   \n",
       "3649  ✅ Trip Verified |  This is to express our disp...      1   \n",
       "\n",
       "                    date             country  \n",
       "0     9th September 2023           (Kuwait)   \n",
       "1     6th September 2023          (Germany)   \n",
       "2     4th September 2023   (United Kingdom)   \n",
       "3     4th September 2023          (Iceland)   \n",
       "4     4th September 2023          (Iceland)   \n",
       "...                  ...                 ...  \n",
       "3645  4th September 2023   (United Kingdom)   \n",
       "3646  2nd September 2023        (Australia)   \n",
       "3647  1st September 2023   (United Kingdom)   \n",
       "3648  1st September 2023    (United States)   \n",
       "3649    31st August 2023    (United States)   \n",
       "\n",
       "[3650 rows x 4 columns]"
      ]
     },
     "execution_count": 3,
     "metadata": {},
     "output_type": "execute_result"
    }
   ],
   "source": [
    "df"
   ]
  },
  {
   "cell_type": "markdown",
   "id": "9342e784",
   "metadata": {},
   "source": [
    "We will also create a column which mentions if the user is verified or not."
   ]
  },
  {
   "cell_type": "code",
   "execution_count": 4,
   "id": "09326b68",
   "metadata": {},
   "outputs": [],
   "source": [
    "df['verified'] = df.reviews.str.contains('Trip Verified')"
   ]
  },
  {
   "cell_type": "code",
   "execution_count": 5,
   "id": "f80680b6",
   "metadata": {},
   "outputs": [
    {
     "data": {
      "text/plain": [
       "0       False\n",
       "1        True\n",
       "2        True\n",
       "3        True\n",
       "4        True\n",
       "        ...  \n",
       "3645     True\n",
       "3646     True\n",
       "3647     True\n",
       "3648     True\n",
       "3649     True\n",
       "Name: verified, Length: 3650, dtype: bool"
      ]
     },
     "execution_count": 5,
     "metadata": {},
     "output_type": "execute_result"
    }
   ],
   "source": [
    "df['verified']"
   ]
  },
  {
   "cell_type": "code",
   "execution_count": 6,
   "id": "6573fa83",
   "metadata": {},
   "outputs": [
    {
     "data": {
      "text/plain": [
       "True     3285\n",
       "False     365\n",
       "Name: verified, dtype: int64"
      ]
     },
     "execution_count": 6,
     "metadata": {},
     "output_type": "execute_result"
    }
   ],
   "source": [
    "df['verified'].value_counts()"
   ]
  },
  {
   "cell_type": "code",
   "execution_count": 7,
   "id": "6a7e8d3a",
   "metadata": {},
   "outputs": [
    {
     "name": "stderr",
     "output_type": "stream",
     "text": [
      "C:\\Users\\NIKHIL\\AppData\\Local\\Temp\\ipykernel_16968\\3079549986.py:2: FutureWarning: The default value of regex will change from True to False in a future version.\n",
      "  df['country'] = df['country'].str.replace(r'\\(|\\)','')\n"
     ]
    }
   ],
   "source": [
    "#removing the brackets in the country column using replace function\n",
    "df['country'] = df['country'].str.replace(r'\\(|\\)','')"
   ]
  },
  {
   "cell_type": "code",
   "execution_count": 8,
   "id": "3897baa7",
   "metadata": {},
   "outputs": [
    {
     "data": {
      "text/html": [
       "<div>\n",
       "<style scoped>\n",
       "    .dataframe tbody tr th:only-of-type {\n",
       "        vertical-align: middle;\n",
       "    }\n",
       "\n",
       "    .dataframe tbody tr th {\n",
       "        vertical-align: top;\n",
       "    }\n",
       "\n",
       "    .dataframe thead th {\n",
       "        text-align: right;\n",
       "    }\n",
       "</style>\n",
       "<table border=\"1\" class=\"dataframe\">\n",
       "  <thead>\n",
       "    <tr style=\"text-align: right;\">\n",
       "      <th></th>\n",
       "      <th>reviews</th>\n",
       "      <th>stars</th>\n",
       "      <th>date</th>\n",
       "      <th>country</th>\n",
       "      <th>verified</th>\n",
       "    </tr>\n",
       "  </thead>\n",
       "  <tbody>\n",
       "    <tr>\n",
       "      <th>0</th>\n",
       "      <td>Not Verified |  The worst service ever, my bag...</td>\n",
       "      <td>5</td>\n",
       "      <td>9th September 2023</td>\n",
       "      <td>Kuwait</td>\n",
       "      <td>False</td>\n",
       "    </tr>\n",
       "    <tr>\n",
       "      <th>1</th>\n",
       "      <td>✅ Trip Verified |  4/4 flights we booked this ...</td>\n",
       "      <td>1</td>\n",
       "      <td>6th September 2023</td>\n",
       "      <td>Germany</td>\n",
       "      <td>True</td>\n",
       "    </tr>\n",
       "    <tr>\n",
       "      <th>2</th>\n",
       "      <td>✅ Trip Verified |  British Airways has a total...</td>\n",
       "      <td>1</td>\n",
       "      <td>4th September 2023</td>\n",
       "      <td>United Kingdom</td>\n",
       "      <td>True</td>\n",
       "    </tr>\n",
       "    <tr>\n",
       "      <th>3</th>\n",
       "      <td>✅ Trip Verified | London Heathrow to Keflavik,...</td>\n",
       "      <td>1</td>\n",
       "      <td>4th September 2023</td>\n",
       "      <td>Iceland</td>\n",
       "      <td>True</td>\n",
       "    </tr>\n",
       "    <tr>\n",
       "      <th>4</th>\n",
       "      <td>✅ Trip Verified | Mumbai to London Heathrow in...</td>\n",
       "      <td>8</td>\n",
       "      <td>4th September 2023</td>\n",
       "      <td>Iceland</td>\n",
       "      <td>True</td>\n",
       "    </tr>\n",
       "    <tr>\n",
       "      <th>...</th>\n",
       "      <td>...</td>\n",
       "      <td>...</td>\n",
       "      <td>...</td>\n",
       "      <td>...</td>\n",
       "      <td>...</td>\n",
       "    </tr>\n",
       "    <tr>\n",
       "      <th>3645</th>\n",
       "      <td>✅ Trip Verified |  Care and support shocking. ...</td>\n",
       "      <td>8</td>\n",
       "      <td>4th September 2023</td>\n",
       "      <td>United Kingdom</td>\n",
       "      <td>True</td>\n",
       "    </tr>\n",
       "    <tr>\n",
       "      <th>3646</th>\n",
       "      <td>✅ Trip Verified |  Flying A380 business class ...</td>\n",
       "      <td>8</td>\n",
       "      <td>2nd September 2023</td>\n",
       "      <td>Australia</td>\n",
       "      <td>True</td>\n",
       "    </tr>\n",
       "    <tr>\n",
       "      <th>3647</th>\n",
       "      <td>✅ Trip Verified |  British Airways absolutely ...</td>\n",
       "      <td>2</td>\n",
       "      <td>1st September 2023</td>\n",
       "      <td>United Kingdom</td>\n",
       "      <td>True</td>\n",
       "    </tr>\n",
       "    <tr>\n",
       "      <th>3648</th>\n",
       "      <td>✅ Trip Verified |  My recent experience with B...</td>\n",
       "      <td>1</td>\n",
       "      <td>1st September 2023</td>\n",
       "      <td>United States</td>\n",
       "      <td>True</td>\n",
       "    </tr>\n",
       "    <tr>\n",
       "      <th>3649</th>\n",
       "      <td>✅ Trip Verified |  This is to express our disp...</td>\n",
       "      <td>1</td>\n",
       "      <td>31st August 2023</td>\n",
       "      <td>United States</td>\n",
       "      <td>True</td>\n",
       "    </tr>\n",
       "  </tbody>\n",
       "</table>\n",
       "<p>3650 rows × 5 columns</p>\n",
       "</div>"
      ],
      "text/plain": [
       "                                                reviews  stars  \\\n",
       "0     Not Verified |  The worst service ever, my bag...      5   \n",
       "1     ✅ Trip Verified |  4/4 flights we booked this ...      1   \n",
       "2     ✅ Trip Verified |  British Airways has a total...      1   \n",
       "3     ✅ Trip Verified | London Heathrow to Keflavik,...      1   \n",
       "4     ✅ Trip Verified | Mumbai to London Heathrow in...      8   \n",
       "...                                                 ...    ...   \n",
       "3645  ✅ Trip Verified |  Care and support shocking. ...      8   \n",
       "3646  ✅ Trip Verified |  Flying A380 business class ...      8   \n",
       "3647  ✅ Trip Verified |  British Airways absolutely ...      2   \n",
       "3648  ✅ Trip Verified |  My recent experience with B...      1   \n",
       "3649  ✅ Trip Verified |  This is to express our disp...      1   \n",
       "\n",
       "                    date           country  verified  \n",
       "0     9th September 2023           Kuwait      False  \n",
       "1     6th September 2023          Germany       True  \n",
       "2     4th September 2023   United Kingdom       True  \n",
       "3     4th September 2023          Iceland       True  \n",
       "4     4th September 2023          Iceland       True  \n",
       "...                  ...               ...       ...  \n",
       "3645  4th September 2023   United Kingdom       True  \n",
       "3646  2nd September 2023        Australia       True  \n",
       "3647  1st September 2023   United Kingdom       True  \n",
       "3648  1st September 2023    United States       True  \n",
       "3649    31st August 2023    United States       True  \n",
       "\n",
       "[3650 rows x 5 columns]"
      ]
     },
     "execution_count": 8,
     "metadata": {},
     "output_type": "execute_result"
    }
   ],
   "source": [
    "df"
   ]
  },
  {
   "cell_type": "markdown",
   "id": "f7d309a6",
   "metadata": {},
   "source": [
    "## Cleaning the reviews"
   ]
  },
  {
   "cell_type": "markdown",
   "id": "a8150439",
   "metadata": {},
   "source": [
    "we will use the process of lemmatization of words from nltk library for semantic analysis"
   ]
  },
  {
   "cell_type": "code",
   "execution_count": 10,
   "id": "372ceff7",
   "metadata": {},
   "outputs": [],
   "source": [
    "#importing nltk library\n",
    "import nltk"
   ]
  },
  {
   "cell_type": "code",
   "execution_count": 13,
   "id": "9eec8b4f",
   "metadata": {},
   "outputs": [
    {
     "name": "stderr",
     "output_type": "stream",
     "text": [
      "[nltk_data] Downloading package stopwords to\n",
      "[nltk_data]     C:\\Users\\NIKHIL\\AppData\\Roaming\\nltk_data...\n",
      "[nltk_data]   Package stopwords is already up-to-date!\n"
     ]
    },
    {
     "data": {
      "text/plain": [
       "True"
      ]
     },
     "execution_count": 13,
     "metadata": {},
     "output_type": "execute_result"
    }
   ],
   "source": [
    "nltk.download('stopwords')"
   ]
  },
  {
   "cell_type": "code",
   "execution_count": 16,
   "id": "f7ee8dad",
   "metadata": {},
   "outputs": [
    {
     "name": "stderr",
     "output_type": "stream",
     "text": [
      "[nltk_data] Downloading package wordnet to\n",
      "[nltk_data]     C:\\Users\\NIKHIL\\AppData\\Roaming\\nltk_data...\n",
      "[nltk_data]   Package wordnet is already up-to-date!\n"
     ]
    },
    {
     "data": {
      "text/plain": [
       "True"
      ]
     },
     "execution_count": 16,
     "metadata": {},
     "output_type": "execute_result"
    }
   ],
   "source": [
    "nltk.download('wordnet')"
   ]
  },
  {
   "cell_type": "code",
   "execution_count": 18,
   "id": "3a5b3df0",
   "metadata": {},
   "outputs": [
    {
     "name": "stderr",
     "output_type": "stream",
     "text": [
      "[nltk_data] Downloading package omw-1.4 to\n",
      "[nltk_data]     C:\\Users\\NIKHIL\\AppData\\Roaming\\nltk_data...\n"
     ]
    },
    {
     "data": {
      "text/plain": [
       "True"
      ]
     },
     "execution_count": 18,
     "metadata": {},
     "output_type": "execute_result"
    }
   ],
   "source": [
    "nltk.download('omw-1.4')"
   ]
  },
  {
   "cell_type": "code",
   "execution_count": 19,
   "id": "a9185d18",
   "metadata": {
    "scrolled": false
   },
   "outputs": [],
   "source": [
    "#we will import WordNetLemmatizer and stopwords from nltk library\n",
    "import nltk\n",
    "from nltk.stem import WordNetLemmatizer\n",
    "from nltk.corpus import stopwords\n",
    "import re\n",
    "\n",
    "lemma = WordNetLemmatizer()\n",
    "\n",
    "# Creating an empty list to collect cleaned data corpus\n",
    "corpus = []\n",
    "\n",
    "reviews_data = df.reviews\n",
    "\n",
    "# Loop through each review, remove punctuations, lowercase it, lemmatize, join, and add it to the corpus\n",
    "for rev in reviews_data:\n",
    "    rev = re.sub('[^a-zA-Z]', ' ', rev)  # Replacing non-alphabetical characters with space\n",
    "    rev = rev.lower()\n",
    "    rev = rev.split()\n",
    "    rev = [lemma.lemmatize(word) for word in rev if word not in set(stopwords.words(\"english\"))]\n",
    "    rev = \" \".join(rev)\n",
    "    corpus.append(rev)\n"
   ]
  },
  {
   "cell_type": "code",
   "execution_count": 20,
   "id": "89bd997a",
   "metadata": {},
   "outputs": [],
   "source": [
    "df['corpus'] = corpus"
   ]
  },
  {
   "cell_type": "code",
   "execution_count": 21,
   "id": "d4c4306b",
   "metadata": {},
   "outputs": [
    {
     "data": {
      "text/html": [
       "<div>\n",
       "<style scoped>\n",
       "    .dataframe tbody tr th:only-of-type {\n",
       "        vertical-align: middle;\n",
       "    }\n",
       "\n",
       "    .dataframe tbody tr th {\n",
       "        vertical-align: top;\n",
       "    }\n",
       "\n",
       "    .dataframe thead th {\n",
       "        text-align: right;\n",
       "    }\n",
       "</style>\n",
       "<table border=\"1\" class=\"dataframe\">\n",
       "  <thead>\n",
       "    <tr style=\"text-align: right;\">\n",
       "      <th></th>\n",
       "      <th>reviews</th>\n",
       "      <th>stars</th>\n",
       "      <th>date</th>\n",
       "      <th>country</th>\n",
       "      <th>verified</th>\n",
       "      <th>corpus</th>\n",
       "    </tr>\n",
       "  </thead>\n",
       "  <tbody>\n",
       "    <tr>\n",
       "      <th>0</th>\n",
       "      <td>Not Verified |  The worst service ever, my bag...</td>\n",
       "      <td>5</td>\n",
       "      <td>9th September 2023</td>\n",
       "      <td>Kuwait</td>\n",
       "      <td>False</td>\n",
       "      <td>verified worst service ever baggage arrive tim...</td>\n",
       "    </tr>\n",
       "    <tr>\n",
       "      <th>1</th>\n",
       "      <td>✅ Trip Verified |  4/4 flights we booked this ...</td>\n",
       "      <td>1</td>\n",
       "      <td>6th September 2023</td>\n",
       "      <td>Germany</td>\n",
       "      <td>True</td>\n",
       "      <td>trip verified flight booked holiday delayed ho...</td>\n",
       "    </tr>\n",
       "    <tr>\n",
       "      <th>2</th>\n",
       "      <td>✅ Trip Verified |  British Airways has a total...</td>\n",
       "      <td>1</td>\n",
       "      <td>4th September 2023</td>\n",
       "      <td>United Kingdom</td>\n",
       "      <td>True</td>\n",
       "      <td>trip verified british airway total lack respec...</td>\n",
       "    </tr>\n",
       "    <tr>\n",
       "      <th>3</th>\n",
       "      <td>✅ Trip Verified | London Heathrow to Keflavik,...</td>\n",
       "      <td>1</td>\n",
       "      <td>4th September 2023</td>\n",
       "      <td>Iceland</td>\n",
       "      <td>True</td>\n",
       "      <td>trip verified london heathrow keflavik iceland...</td>\n",
       "    </tr>\n",
       "    <tr>\n",
       "      <th>4</th>\n",
       "      <td>✅ Trip Verified | Mumbai to London Heathrow in...</td>\n",
       "      <td>8</td>\n",
       "      <td>4th September 2023</td>\n",
       "      <td>Iceland</td>\n",
       "      <td>True</td>\n",
       "      <td>trip verified mumbai london heathrow business ...</td>\n",
       "    </tr>\n",
       "    <tr>\n",
       "      <th>...</th>\n",
       "      <td>...</td>\n",
       "      <td>...</td>\n",
       "      <td>...</td>\n",
       "      <td>...</td>\n",
       "      <td>...</td>\n",
       "      <td>...</td>\n",
       "    </tr>\n",
       "    <tr>\n",
       "      <th>3645</th>\n",
       "      <td>✅ Trip Verified |  Care and support shocking. ...</td>\n",
       "      <td>8</td>\n",
       "      <td>4th September 2023</td>\n",
       "      <td>United Kingdom</td>\n",
       "      <td>True</td>\n",
       "      <td>trip verified care support shocking written pr...</td>\n",
       "    </tr>\n",
       "    <tr>\n",
       "      <th>3646</th>\n",
       "      <td>✅ Trip Verified |  Flying A380 business class ...</td>\n",
       "      <td>8</td>\n",
       "      <td>2nd September 2023</td>\n",
       "      <td>Australia</td>\n",
       "      <td>True</td>\n",
       "      <td>trip verified flying business class pleasure b...</td>\n",
       "    </tr>\n",
       "    <tr>\n",
       "      <th>3647</th>\n",
       "      <td>✅ Trip Verified |  British Airways absolutely ...</td>\n",
       "      <td>2</td>\n",
       "      <td>1st September 2023</td>\n",
       "      <td>United Kingdom</td>\n",
       "      <td>True</td>\n",
       "      <td>trip verified british airway absolutely care r...</td>\n",
       "    </tr>\n",
       "    <tr>\n",
       "      <th>3648</th>\n",
       "      <td>✅ Trip Verified |  My recent experience with B...</td>\n",
       "      <td>1</td>\n",
       "      <td>1st September 2023</td>\n",
       "      <td>United States</td>\n",
       "      <td>True</td>\n",
       "      <td>trip verified recent experience british airway...</td>\n",
       "    </tr>\n",
       "    <tr>\n",
       "      <th>3649</th>\n",
       "      <td>✅ Trip Verified |  This is to express our disp...</td>\n",
       "      <td>1</td>\n",
       "      <td>31st August 2023</td>\n",
       "      <td>United States</td>\n",
       "      <td>True</td>\n",
       "      <td>trip verified express displeasure concern rega...</td>\n",
       "    </tr>\n",
       "  </tbody>\n",
       "</table>\n",
       "<p>3650 rows × 6 columns</p>\n",
       "</div>"
      ],
      "text/plain": [
       "                                                reviews  stars  \\\n",
       "0     Not Verified |  The worst service ever, my bag...      5   \n",
       "1     ✅ Trip Verified |  4/4 flights we booked this ...      1   \n",
       "2     ✅ Trip Verified |  British Airways has a total...      1   \n",
       "3     ✅ Trip Verified | London Heathrow to Keflavik,...      1   \n",
       "4     ✅ Trip Verified | Mumbai to London Heathrow in...      8   \n",
       "...                                                 ...    ...   \n",
       "3645  ✅ Trip Verified |  Care and support shocking. ...      8   \n",
       "3646  ✅ Trip Verified |  Flying A380 business class ...      8   \n",
       "3647  ✅ Trip Verified |  British Airways absolutely ...      2   \n",
       "3648  ✅ Trip Verified |  My recent experience with B...      1   \n",
       "3649  ✅ Trip Verified |  This is to express our disp...      1   \n",
       "\n",
       "                    date           country  verified  \\\n",
       "0     9th September 2023           Kuwait      False   \n",
       "1     6th September 2023          Germany       True   \n",
       "2     4th September 2023   United Kingdom       True   \n",
       "3     4th September 2023          Iceland       True   \n",
       "4     4th September 2023          Iceland       True   \n",
       "...                  ...               ...       ...   \n",
       "3645  4th September 2023   United Kingdom       True   \n",
       "3646  2nd September 2023        Australia       True   \n",
       "3647  1st September 2023   United Kingdom       True   \n",
       "3648  1st September 2023    United States       True   \n",
       "3649    31st August 2023    United States       True   \n",
       "\n",
       "                                                 corpus  \n",
       "0     verified worst service ever baggage arrive tim...  \n",
       "1     trip verified flight booked holiday delayed ho...  \n",
       "2     trip verified british airway total lack respec...  \n",
       "3     trip verified london heathrow keflavik iceland...  \n",
       "4     trip verified mumbai london heathrow business ...  \n",
       "...                                                 ...  \n",
       "3645  trip verified care support shocking written pr...  \n",
       "3646  trip verified flying business class pleasure b...  \n",
       "3647  trip verified british airway absolutely care r...  \n",
       "3648  trip verified recent experience british airway...  \n",
       "3649  trip verified express displeasure concern rega...  \n",
       "\n",
       "[3650 rows x 6 columns]"
      ]
     },
     "execution_count": 21,
     "metadata": {},
     "output_type": "execute_result"
    }
   ],
   "source": [
    "df"
   ]
  },
  {
   "cell_type": "code",
   "execution_count": 22,
   "id": "cf1c94b0",
   "metadata": {},
   "outputs": [
    {
     "name": "stdout",
     "output_type": "stream",
     "text": [
      "<class 'pandas.core.frame.DataFrame'>\n",
      "Int64Index: 3650 entries, 0 to 3649\n",
      "Data columns (total 6 columns):\n",
      " #   Column    Non-Null Count  Dtype \n",
      "---  ------    --------------  ----- \n",
      " 0   reviews   3650 non-null   object\n",
      " 1   stars     3650 non-null   int64 \n",
      " 2   date      3650 non-null   object\n",
      " 3   country   3650 non-null   object\n",
      " 4   verified  3650 non-null   bool  \n",
      " 5   corpus    3650 non-null   object\n",
      "dtypes: bool(1), int64(1), object(4)\n",
      "memory usage: 174.7+ KB\n"
     ]
    }
   ],
   "source": [
    "df.info()"
   ]
  },
  {
   "cell_type": "code",
   "execution_count": 23,
   "id": "56f34a18",
   "metadata": {},
   "outputs": [],
   "source": [
    "#converting the date into datetime format\n",
    "df['date'] = pd.to_datetime(df['date'])"
   ]
  },
  {
   "cell_type": "code",
   "execution_count": 24,
   "id": "6dcba471",
   "metadata": {},
   "outputs": [
    {
     "name": "stdout",
     "output_type": "stream",
     "text": [
      "<class 'pandas.core.frame.DataFrame'>\n",
      "Int64Index: 3650 entries, 0 to 3649\n",
      "Data columns (total 6 columns):\n",
      " #   Column    Non-Null Count  Dtype         \n",
      "---  ------    --------------  -----         \n",
      " 0   reviews   3650 non-null   object        \n",
      " 1   stars     3650 non-null   int64         \n",
      " 2   date      3650 non-null   datetime64[ns]\n",
      " 3   country   3650 non-null   object        \n",
      " 4   verified  3650 non-null   bool          \n",
      " 5   corpus    3650 non-null   object        \n",
      "dtypes: bool(1), datetime64[ns](1), int64(1), object(3)\n",
      "memory usage: 174.7+ KB\n"
     ]
    }
   ],
   "source": [
    "df.info()"
   ]
  },
  {
   "cell_type": "code",
   "execution_count": 25,
   "id": "db66802e",
   "metadata": {},
   "outputs": [
    {
     "data": {
      "text/html": [
       "<div>\n",
       "<style scoped>\n",
       "    .dataframe tbody tr th:only-of-type {\n",
       "        vertical-align: middle;\n",
       "    }\n",
       "\n",
       "    .dataframe tbody tr th {\n",
       "        vertical-align: top;\n",
       "    }\n",
       "\n",
       "    .dataframe thead th {\n",
       "        text-align: right;\n",
       "    }\n",
       "</style>\n",
       "<table border=\"1\" class=\"dataframe\">\n",
       "  <thead>\n",
       "    <tr style=\"text-align: right;\">\n",
       "      <th></th>\n",
       "      <th>reviews</th>\n",
       "      <th>stars</th>\n",
       "      <th>date</th>\n",
       "      <th>country</th>\n",
       "      <th>verified</th>\n",
       "      <th>corpus</th>\n",
       "    </tr>\n",
       "  </thead>\n",
       "  <tbody>\n",
       "    <tr>\n",
       "      <th>0</th>\n",
       "      <td>Not Verified |  The worst service ever, my bag...</td>\n",
       "      <td>5</td>\n",
       "      <td>2023-09-09</td>\n",
       "      <td>Kuwait</td>\n",
       "      <td>False</td>\n",
       "      <td>verified worst service ever baggage arrive tim...</td>\n",
       "    </tr>\n",
       "    <tr>\n",
       "      <th>1</th>\n",
       "      <td>✅ Trip Verified |  4/4 flights we booked this ...</td>\n",
       "      <td>1</td>\n",
       "      <td>2023-09-06</td>\n",
       "      <td>Germany</td>\n",
       "      <td>True</td>\n",
       "      <td>trip verified flight booked holiday delayed ho...</td>\n",
       "    </tr>\n",
       "    <tr>\n",
       "      <th>2</th>\n",
       "      <td>✅ Trip Verified |  British Airways has a total...</td>\n",
       "      <td>1</td>\n",
       "      <td>2023-09-04</td>\n",
       "      <td>United Kingdom</td>\n",
       "      <td>True</td>\n",
       "      <td>trip verified british airway total lack respec...</td>\n",
       "    </tr>\n",
       "    <tr>\n",
       "      <th>3</th>\n",
       "      <td>✅ Trip Verified | London Heathrow to Keflavik,...</td>\n",
       "      <td>1</td>\n",
       "      <td>2023-09-04</td>\n",
       "      <td>Iceland</td>\n",
       "      <td>True</td>\n",
       "      <td>trip verified london heathrow keflavik iceland...</td>\n",
       "    </tr>\n",
       "    <tr>\n",
       "      <th>4</th>\n",
       "      <td>✅ Trip Verified | Mumbai to London Heathrow in...</td>\n",
       "      <td>8</td>\n",
       "      <td>2023-09-04</td>\n",
       "      <td>Iceland</td>\n",
       "      <td>True</td>\n",
       "      <td>trip verified mumbai london heathrow business ...</td>\n",
       "    </tr>\n",
       "    <tr>\n",
       "      <th>...</th>\n",
       "      <td>...</td>\n",
       "      <td>...</td>\n",
       "      <td>...</td>\n",
       "      <td>...</td>\n",
       "      <td>...</td>\n",
       "      <td>...</td>\n",
       "    </tr>\n",
       "    <tr>\n",
       "      <th>3645</th>\n",
       "      <td>✅ Trip Verified |  Care and support shocking. ...</td>\n",
       "      <td>8</td>\n",
       "      <td>2023-09-04</td>\n",
       "      <td>United Kingdom</td>\n",
       "      <td>True</td>\n",
       "      <td>trip verified care support shocking written pr...</td>\n",
       "    </tr>\n",
       "    <tr>\n",
       "      <th>3646</th>\n",
       "      <td>✅ Trip Verified |  Flying A380 business class ...</td>\n",
       "      <td>8</td>\n",
       "      <td>2023-09-02</td>\n",
       "      <td>Australia</td>\n",
       "      <td>True</td>\n",
       "      <td>trip verified flying business class pleasure b...</td>\n",
       "    </tr>\n",
       "    <tr>\n",
       "      <th>3647</th>\n",
       "      <td>✅ Trip Verified |  British Airways absolutely ...</td>\n",
       "      <td>2</td>\n",
       "      <td>2023-09-01</td>\n",
       "      <td>United Kingdom</td>\n",
       "      <td>True</td>\n",
       "      <td>trip verified british airway absolutely care r...</td>\n",
       "    </tr>\n",
       "    <tr>\n",
       "      <th>3648</th>\n",
       "      <td>✅ Trip Verified |  My recent experience with B...</td>\n",
       "      <td>1</td>\n",
       "      <td>2023-09-01</td>\n",
       "      <td>United States</td>\n",
       "      <td>True</td>\n",
       "      <td>trip verified recent experience british airway...</td>\n",
       "    </tr>\n",
       "    <tr>\n",
       "      <th>3649</th>\n",
       "      <td>✅ Trip Verified |  This is to express our disp...</td>\n",
       "      <td>1</td>\n",
       "      <td>2023-08-31</td>\n",
       "      <td>United States</td>\n",
       "      <td>True</td>\n",
       "      <td>trip verified express displeasure concern rega...</td>\n",
       "    </tr>\n",
       "  </tbody>\n",
       "</table>\n",
       "<p>3650 rows × 6 columns</p>\n",
       "</div>"
      ],
      "text/plain": [
       "                                                reviews  stars       date  \\\n",
       "0     Not Verified |  The worst service ever, my bag...      5 2023-09-09   \n",
       "1     ✅ Trip Verified |  4/4 flights we booked this ...      1 2023-09-06   \n",
       "2     ✅ Trip Verified |  British Airways has a total...      1 2023-09-04   \n",
       "3     ✅ Trip Verified | London Heathrow to Keflavik,...      1 2023-09-04   \n",
       "4     ✅ Trip Verified | Mumbai to London Heathrow in...      8 2023-09-04   \n",
       "...                                                 ...    ...        ...   \n",
       "3645  ✅ Trip Verified |  Care and support shocking. ...      8 2023-09-04   \n",
       "3646  ✅ Trip Verified |  Flying A380 business class ...      8 2023-09-02   \n",
       "3647  ✅ Trip Verified |  British Airways absolutely ...      2 2023-09-01   \n",
       "3648  ✅ Trip Verified |  My recent experience with B...      1 2023-09-01   \n",
       "3649  ✅ Trip Verified |  This is to express our disp...      1 2023-08-31   \n",
       "\n",
       "               country  verified  \\\n",
       "0              Kuwait      False   \n",
       "1             Germany       True   \n",
       "2      United Kingdom       True   \n",
       "3             Iceland       True   \n",
       "4             Iceland       True   \n",
       "...                ...       ...   \n",
       "3645   United Kingdom       True   \n",
       "3646        Australia       True   \n",
       "3647   United Kingdom       True   \n",
       "3648    United States       True   \n",
       "3649    United States       True   \n",
       "\n",
       "                                                 corpus  \n",
       "0     verified worst service ever baggage arrive tim...  \n",
       "1     trip verified flight booked holiday delayed ho...  \n",
       "2     trip verified british airway total lack respec...  \n",
       "3     trip verified london heathrow keflavik iceland...  \n",
       "4     trip verified mumbai london heathrow business ...  \n",
       "...                                                 ...  \n",
       "3645  trip verified care support shocking written pr...  \n",
       "3646  trip verified flying business class pleasure b...  \n",
       "3647  trip verified british airway absolutely care r...  \n",
       "3648  trip verified recent experience british airway...  \n",
       "3649  trip verified express displeasure concern rega...  \n",
       "\n",
       "[3650 rows x 6 columns]"
      ]
     },
     "execution_count": 25,
     "metadata": {},
     "output_type": "execute_result"
    }
   ],
   "source": [
    "df"
   ]
  },
  {
   "cell_type": "code",
   "execution_count": 27,
   "id": "545b8875",
   "metadata": {},
   "outputs": [
    {
     "data": {
      "text/plain": [
       "1    2322\n",
       "8     664\n",
       "5     332\n",
       "2     332\n",
       "Name: stars, dtype: int64"
      ]
     },
     "execution_count": 27,
     "metadata": {},
     "output_type": "execute_result"
    }
   ],
   "source": [
    "#checking the anamoly in stars column\n",
    "df.stars.value_counts()"
   ]
  },
  {
   "cell_type": "code",
   "execution_count": 29,
   "id": "203b44e0",
   "metadata": {},
   "outputs": [
    {
     "data": {
      "text/plain": [
       "array([5, 1, 8, 2], dtype=int64)"
      ]
     },
     "execution_count": 29,
     "metadata": {},
     "output_type": "execute_result"
    }
   ],
   "source": [
    "df.stars.unique()"
   ]
  },
  {
   "cell_type": "code",
   "execution_count": 30,
   "id": "60be3fe5",
   "metadata": {},
   "outputs": [
    {
     "data": {
      "text/plain": [
       "reviews     0\n",
       "stars       0\n",
       "date        0\n",
       "country     0\n",
       "verified    0\n",
       "corpus      0\n",
       "dtype: int64"
      ]
     },
     "execution_count": 30,
     "metadata": {},
     "output_type": "execute_result"
    }
   ],
   "source": [
    "#checking for null values\n",
    "df.isnull().sum()"
   ]
  },
  {
   "cell_type": "markdown",
   "id": "588cb68d",
   "metadata": {},
   "source": [
    "There are no null values in our dataset"
   ]
  },
  {
   "cell_type": "code",
   "execution_count": 31,
   "id": "5d7e949c",
   "metadata": {},
   "outputs": [
    {
     "data": {
      "text/plain": [
       "(3650, 6)"
      ]
     },
     "execution_count": 31,
     "metadata": {},
     "output_type": "execute_result"
    }
   ],
   "source": [
    "df.shape"
   ]
  },
  {
   "cell_type": "code",
   "execution_count": 32,
   "id": "2f46071d",
   "metadata": {},
   "outputs": [
    {
     "data": {
      "text/html": [
       "<div>\n",
       "<style scoped>\n",
       "    .dataframe tbody tr th:only-of-type {\n",
       "        vertical-align: middle;\n",
       "    }\n",
       "\n",
       "    .dataframe tbody tr th {\n",
       "        vertical-align: top;\n",
       "    }\n",
       "\n",
       "    .dataframe thead th {\n",
       "        text-align: right;\n",
       "    }\n",
       "</style>\n",
       "<table border=\"1\" class=\"dataframe\">\n",
       "  <thead>\n",
       "    <tr style=\"text-align: right;\">\n",
       "      <th></th>\n",
       "      <th>reviews</th>\n",
       "      <th>stars</th>\n",
       "      <th>date</th>\n",
       "      <th>country</th>\n",
       "      <th>verified</th>\n",
       "      <th>corpus</th>\n",
       "    </tr>\n",
       "  </thead>\n",
       "  <tbody>\n",
       "    <tr>\n",
       "      <th>0</th>\n",
       "      <td>Not Verified |  The worst service ever, my bag...</td>\n",
       "      <td>5</td>\n",
       "      <td>2023-09-09</td>\n",
       "      <td>Kuwait</td>\n",
       "      <td>False</td>\n",
       "      <td>verified worst service ever baggage arrive tim...</td>\n",
       "    </tr>\n",
       "    <tr>\n",
       "      <th>1</th>\n",
       "      <td>✅ Trip Verified |  4/4 flights we booked this ...</td>\n",
       "      <td>1</td>\n",
       "      <td>2023-09-06</td>\n",
       "      <td>Germany</td>\n",
       "      <td>True</td>\n",
       "      <td>trip verified flight booked holiday delayed ho...</td>\n",
       "    </tr>\n",
       "    <tr>\n",
       "      <th>2</th>\n",
       "      <td>✅ Trip Verified |  British Airways has a total...</td>\n",
       "      <td>1</td>\n",
       "      <td>2023-09-04</td>\n",
       "      <td>United Kingdom</td>\n",
       "      <td>True</td>\n",
       "      <td>trip verified british airway total lack respec...</td>\n",
       "    </tr>\n",
       "    <tr>\n",
       "      <th>3</th>\n",
       "      <td>✅ Trip Verified | London Heathrow to Keflavik,...</td>\n",
       "      <td>1</td>\n",
       "      <td>2023-09-04</td>\n",
       "      <td>Iceland</td>\n",
       "      <td>True</td>\n",
       "      <td>trip verified london heathrow keflavik iceland...</td>\n",
       "    </tr>\n",
       "    <tr>\n",
       "      <th>4</th>\n",
       "      <td>✅ Trip Verified | Mumbai to London Heathrow in...</td>\n",
       "      <td>8</td>\n",
       "      <td>2023-09-04</td>\n",
       "      <td>Iceland</td>\n",
       "      <td>True</td>\n",
       "      <td>trip verified mumbai london heathrow business ...</td>\n",
       "    </tr>\n",
       "    <tr>\n",
       "      <th>...</th>\n",
       "      <td>...</td>\n",
       "      <td>...</td>\n",
       "      <td>...</td>\n",
       "      <td>...</td>\n",
       "      <td>...</td>\n",
       "      <td>...</td>\n",
       "    </tr>\n",
       "    <tr>\n",
       "      <th>3645</th>\n",
       "      <td>✅ Trip Verified |  Care and support shocking. ...</td>\n",
       "      <td>8</td>\n",
       "      <td>2023-09-04</td>\n",
       "      <td>United Kingdom</td>\n",
       "      <td>True</td>\n",
       "      <td>trip verified care support shocking written pr...</td>\n",
       "    </tr>\n",
       "    <tr>\n",
       "      <th>3646</th>\n",
       "      <td>✅ Trip Verified |  Flying A380 business class ...</td>\n",
       "      <td>8</td>\n",
       "      <td>2023-09-02</td>\n",
       "      <td>Australia</td>\n",
       "      <td>True</td>\n",
       "      <td>trip verified flying business class pleasure b...</td>\n",
       "    </tr>\n",
       "    <tr>\n",
       "      <th>3647</th>\n",
       "      <td>✅ Trip Verified |  British Airways absolutely ...</td>\n",
       "      <td>2</td>\n",
       "      <td>2023-09-01</td>\n",
       "      <td>United Kingdom</td>\n",
       "      <td>True</td>\n",
       "      <td>trip verified british airway absolutely care r...</td>\n",
       "    </tr>\n",
       "    <tr>\n",
       "      <th>3648</th>\n",
       "      <td>✅ Trip Verified |  My recent experience with B...</td>\n",
       "      <td>1</td>\n",
       "      <td>2023-09-01</td>\n",
       "      <td>United States</td>\n",
       "      <td>True</td>\n",
       "      <td>trip verified recent experience british airway...</td>\n",
       "    </tr>\n",
       "    <tr>\n",
       "      <th>3649</th>\n",
       "      <td>✅ Trip Verified |  This is to express our disp...</td>\n",
       "      <td>1</td>\n",
       "      <td>2023-08-31</td>\n",
       "      <td>United States</td>\n",
       "      <td>True</td>\n",
       "      <td>trip verified express displeasure concern rega...</td>\n",
       "    </tr>\n",
       "  </tbody>\n",
       "</table>\n",
       "<p>3650 rows × 6 columns</p>\n",
       "</div>"
      ],
      "text/plain": [
       "                                                reviews  stars       date  \\\n",
       "0     Not Verified |  The worst service ever, my bag...      5 2023-09-09   \n",
       "1     ✅ Trip Verified |  4/4 flights we booked this ...      1 2023-09-06   \n",
       "2     ✅ Trip Verified |  British Airways has a total...      1 2023-09-04   \n",
       "3     ✅ Trip Verified | London Heathrow to Keflavik,...      1 2023-09-04   \n",
       "4     ✅ Trip Verified | Mumbai to London Heathrow in...      8 2023-09-04   \n",
       "...                                                 ...    ...        ...   \n",
       "3645  ✅ Trip Verified |  Care and support shocking. ...      8 2023-09-04   \n",
       "3646  ✅ Trip Verified |  Flying A380 business class ...      8 2023-09-02   \n",
       "3647  ✅ Trip Verified |  British Airways absolutely ...      2 2023-09-01   \n",
       "3648  ✅ Trip Verified |  My recent experience with B...      1 2023-09-01   \n",
       "3649  ✅ Trip Verified |  This is to express our disp...      1 2023-08-31   \n",
       "\n",
       "               country  verified  \\\n",
       "0              Kuwait      False   \n",
       "1             Germany       True   \n",
       "2      United Kingdom       True   \n",
       "3             Iceland       True   \n",
       "4             Iceland       True   \n",
       "...                ...       ...   \n",
       "3645   United Kingdom       True   \n",
       "3646        Australia       True   \n",
       "3647   United Kingdom       True   \n",
       "3648    United States       True   \n",
       "3649    United States       True   \n",
       "\n",
       "                                                 corpus  \n",
       "0     verified worst service ever baggage arrive tim...  \n",
       "1     trip verified flight booked holiday delayed ho...  \n",
       "2     trip verified british airway total lack respec...  \n",
       "3     trip verified london heathrow keflavik iceland...  \n",
       "4     trip verified mumbai london heathrow business ...  \n",
       "...                                                 ...  \n",
       "3645  trip verified care support shocking written pr...  \n",
       "3646  trip verified flying business class pleasure b...  \n",
       "3647  trip verified british airway absolutely care r...  \n",
       "3648  trip verified recent experience british airway...  \n",
       "3649  trip verified express displeasure concern rega...  \n",
       "\n",
       "[3650 rows x 6 columns]"
      ]
     },
     "execution_count": 32,
     "metadata": {},
     "output_type": "execute_result"
    }
   ],
   "source": [
    "#now resetting the index before exporting the data for data visualisation and further analysis\n",
    "df.reset_index(drop = True)"
   ]
  },
  {
   "cell_type": "code",
   "execution_count": 33,
   "id": "9e394db7",
   "metadata": {},
   "outputs": [],
   "source": [
    "#exporting the cleaned dataset\n",
    "\n",
    "df.to_csv(cwd+'\\Cleaned_BA_reviews')"
   ]
  },
  {
   "cell_type": "code",
   "execution_count": null,
   "id": "85060f62",
   "metadata": {},
   "outputs": [],
   "source": []
  }
 ],
 "metadata": {
  "kernelspec": {
   "display_name": "Python 3 (ipykernel)",
   "language": "python",
   "name": "python3"
  },
  "language_info": {
   "codemirror_mode": {
    "name": "ipython",
    "version": 3
   },
   "file_extension": ".py",
   "mimetype": "text/x-python",
   "name": "python",
   "nbconvert_exporter": "python",
   "pygments_lexer": "ipython3",
   "version": "3.9.13"
  }
 },
 "nbformat": 4,
 "nbformat_minor": 5
}
